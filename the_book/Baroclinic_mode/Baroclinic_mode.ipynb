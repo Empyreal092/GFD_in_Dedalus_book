{
 "cells": [
  {
   "cell_type": "markdown",
   "id": "31d936f5-9848-4f7a-819e-1b8e14b6c7c8",
   "metadata": {},
   "source": [
    "(file-types:notebooks)=\n",
    "# Baroclinic modes for arbitrary stratification\n",
    "\n",
    "This is an simple example of the eigenvalue problem module of Dedalus.\n",
    "\n",
    "We solve the baroclinic mode for arbitrary stratification profiles. That\n",
    "is, we solve the Sturm--Liouville problem: \n",
    "\\begin{align}\n",
    "&\\frac{\\mathrm{d}}{\\mathrm{d}z}\\left( \\frac{f^2}{N^2}\\frac{\\mathrm{d}\\psi}{\\mathrm{d}z} \\right) = -\\lambda^2\\psi\\\\\n",
    "\\text{with}\\qquad &\\frac{\\mathrm{d}\\psi}{\\mathrm{d}z}(z=0)=\\frac{\\mathrm{d}\\psi}{\\mathrm{d}z}(z=-H)=0\n",
    "\\end{align}\n",
    "where $N^2$ is a function of $z$.\n",
    "\n",
    "We pose the problem on $H\\in[-1,0]$ with $f^2/N^2(z)=e^{z}$. Realistic\n",
    "physical values only change the eigenvalues by a constant. "
   ]
  },
  {
   "cell_type": "code",
   "execution_count": 17,
   "id": "d00c328c-58f7-4abd-8c83-7f8c35e4eb1e",
   "metadata": {},
   "outputs": [],
   "source": [
    "import numpy as np\n",
    "import dedalus.public as d3\n",
    "\n",
    "import matplotlib.pyplot as plt\n",
    "import matplotlib.colors as colors\n",
    "import cmocean.cm as cmo\n",
    "\n",
    "plt.style.use('/mnt/c/Ryan_Data/Tools/Python_Tool/ryan_mplstyle.mplstyle')"
   ]
  },
  {
   "cell_type": "markdown",
   "id": "7f965896-6b42-42af-be9b-0479fdbf5f82",
   "metadata": {},
   "source": [
    "Define the problem parameters"
   ]
  },
  {
   "cell_type": "code",
   "execution_count": 18,
   "id": "dd44c7ae-7768-4d5e-9c21-2751aeb796db",
   "metadata": {},
   "outputs": [],
   "source": [
    "# Physical Parameters\n",
    "f = 1\n",
    "N0 = 1\n",
    "\n",
    "# Numerics Parameters\n",
    "Lz = 2*np.pi\n",
    "Nz = 128\n",
    "\n",
    "dtype = np.complex128\n",
    "\n",
    "# Bases\n",
    "Lzt, Lzb = 0, -Lz\n",
    "\n",
    "coords = d3.CartesianCoordinates('z')\n",
    "dist = d3.Distributor(coords, dtype=dtype)\n",
    "zbasis = d3.Chebyshev(coords['z'], size=Nz, bounds=(Lzb, Lzt))\n",
    "\n",
    "# Substitutions\n",
    "dz = lambda A: d3.Differentiate(A, coords['z'])"
   ]
  },
  {
   "cell_type": "markdown",
   "id": "94f1ac29-b991-40ea-a2e5-f8811cd9b618",
   "metadata": {},
   "source": [
    "Define the problem fields"
   ]
  },
  {
   "cell_type": "code",
   "execution_count": 19,
   "id": "dd59f80a-5f47-4e90-9a3b-eace4aef4abf",
   "metadata": {},
   "outputs": [],
   "source": [
    "# Fields\n",
    "N2 = dist.Field(bases=zbasis)\n",
    "\n",
    "lamb2 = dist.Field()\n",
    "\n",
    "psi = dist.Field(bases=zbasis )\n",
    "\n",
    "# tau fields for the top and bottom boundary conditions\n",
    "tau_psit = dist.Field( )\n",
    "tau_psib = dist.Field( )\n",
    "\n",
    "z = dist.local_grids(zbasis)\n",
    "\n",
    "lift_basis = zbasis.derivative_basis(2)\n",
    "lift = lambda A, n: d3.Lift(A, lift_basis, n)"
   ]
  },
  {
   "cell_type": "markdown",
   "id": "9f0c8f3f-f18e-4ec2-a96e-4dd1f13f1637",
   "metadata": {},
   "source": [
    "Define the problem"
   ]
  },
  {
   "cell_type": "code",
   "execution_count": 20,
   "id": "c7338ec7-9872-4c84-9747-cd0e239a76d9",
   "metadata": {},
   "outputs": [
    {
     "data": {
      "text/plain": [
       "{'eqn': interp(Diff(<Field 137031801889056>), z=-6.283185307179586),\n",
       " 'LHS': interp(Diff(<Field 137031801889056>), z=-6.283185307179586),\n",
       " 'RHS': 0,\n",
       " 'condition': 'True',\n",
       " 'tensorsig': (),\n",
       " 'dtype': numpy.float64,\n",
       " 'valid_modes': array([ True]),\n",
       " 'M': 0,\n",
       " 'L': interp(Diff(<Field 137031801889056>), z=-6.283185307179586),\n",
       " 'domain': <dedalus.core.domain.Domain at 0x7ca13c8ba9f0>,\n",
       " 'matrix_dependence': array([ True]),\n",
       " 'matrix_coupling': array([ True])}"
      ]
     },
     "execution_count": 20,
     "metadata": {},
     "output_type": "execute_result"
    }
   ],
   "source": [
    "N2['g'] = N0**2*np.exp(z)\n",
    "\n",
    "# Problem\n",
    "problem = d3.EVP([psi, tau_psit, tau_psib], eigenvalue=lamb2, namespace=locals())\n",
    "\n",
    "problem.add_equation(\"dz( (f**2/N2)*dz(psi) ) + lift(tau_psit,-1) + lift(tau_psib,-2) + lamb2*psi = 0\")\n",
    "problem.add_equation(\"dz(psi)(z=Lzt) = 0\"); problem.add_equation(\"dz(psi)(z=Lzb) = 0\")"
   ]
  },
  {
   "cell_type": "code",
   "execution_count": 21,
   "id": "a96e6093-b1df-41b3-a7ca-1b7be6243479",
   "metadata": {},
   "outputs": [
    {
     "name": "stdout",
     "output_type": "stream",
     "text": [
      "2025-06-10 17:45:06,332 subsystems 0/1 INFO :: Building subproblem matrices 1/1 (~100%) Elapsed: 0s, Remaining: 0s, Rate: 4.2e+00/s\n"
     ]
    }
   ],
   "source": [
    "solver = problem.build_solver()\n",
    "solver.solve_dense(solver.subproblems[0], rebuild_matrices=True)\n",
    "evals = solver.eigenvalues"
   ]
  },
  {
   "cell_type": "markdown",
   "id": "23cbfb09-1d30-4cd7-9071-833774088721",
   "metadata": {},
   "source": [
    "One can access the eigenvakyes using ``solver.eigenvalues``. To access the eigenvector, use \n",
    "```\n",
    "solver.set_state(i,0)\n",
    "psi_evec = solver.state[0]['g']\n",
    "```"
   ]
  },
  {
   "cell_type": "markdown",
   "id": "ec81162b-d6a1-436f-8cf8-4cb17a9f5836",
   "metadata": {},
   "source": [
    "We plot the eigenvectors with the four smallest eigenvalues."
   ]
  },
  {
   "cell_type": "code",
   "execution_count": 22,
   "id": "af69788d-9c53-43dc-a97d-6a28284cda63",
   "metadata": {},
   "outputs": [
    {
     "name": "stderr",
     "output_type": "stream",
     "text": [
      "/home/ryan_wsl2/mambaforge/envs/book/lib/python3.13/site-packages/dedalus/tools/array.py:353: ComplexWarning: Casting complex values to real discards the imaginary part\n",
      "  dest[:] = src\n"
     ]
    },
    {
     "ename": "TypeError",
     "evalue": "Cannot cast scalar from dtype('complex128') to dtype('float64') according to the rule 'same_kind'",
     "output_type": "error",
     "traceback": [
      "\u001b[31m---------------------------------------------------------------------------\u001b[39m",
      "\u001b[31mTypeError\u001b[39m                                 Traceback (most recent call last)",
      "\u001b[36mCell\u001b[39m\u001b[36m \u001b[39m\u001b[32mIn[22]\u001b[39m\u001b[32m, line 1\u001b[39m\n\u001b[32m----> \u001b[39m\u001b[32m1\u001b[39m \u001b[43msolver\u001b[49m\u001b[43m.\u001b[49m\u001b[43mset_state\u001b[49m\u001b[43m(\u001b[49m\u001b[32;43m2\u001b[39;49m\u001b[43m,\u001b[49m\u001b[32;43m0\u001b[39;49m\u001b[43m)\u001b[49m\n",
      "\u001b[36mFile \u001b[39m\u001b[32m~/mambaforge/envs/book/lib/python3.13/site-packages/dedalus/core/solvers.py:321\u001b[39m, in \u001b[36mEigenvalueSolver.set_state\u001b[39m\u001b[34m(self, index, subsystem)\u001b[39m\n\u001b[32m    319\u001b[39m subsystem.scatter(\u001b[38;5;28mself\u001b[39m.eigenvectors[:, index], \u001b[38;5;28mself\u001b[39m.state)\n\u001b[32m    320\u001b[39m \u001b[38;5;66;03m# Set eigenvalue\u001b[39;00m\n\u001b[32m--> \u001b[39m\u001b[32m321\u001b[39m \u001b[38;5;28;43mself\u001b[39;49m\u001b[43m.\u001b[49m\u001b[43mproblem\u001b[49m\u001b[43m.\u001b[49m\u001b[43meigenvalue\u001b[49m\u001b[43m[\u001b[49m\u001b[33;43m'\u001b[39;49m\u001b[33;43mg\u001b[39;49m\u001b[33;43m'\u001b[39;49m\u001b[43m]\u001b[49m = \u001b[38;5;28mself\u001b[39m.eigenvalues[index]\n",
      "\u001b[36mFile \u001b[39m\u001b[32m~/mambaforge/envs/book/lib/python3.13/site-packages/dedalus/core/field.py:570\u001b[39m, in \u001b[36mField.__setitem__\u001b[39m\u001b[34m(self, layout, data)\u001b[39m\n\u001b[32m    568\u001b[39m layout = \u001b[38;5;28mself\u001b[39m.dist.get_layout_object(layout)\n\u001b[32m    569\u001b[39m \u001b[38;5;28mself\u001b[39m.preset_layout(layout)\n\u001b[32m--> \u001b[39m\u001b[32m570\u001b[39m \u001b[43mnp\u001b[49m\u001b[43m.\u001b[49m\u001b[43mcopyto\u001b[49m\u001b[43m(\u001b[49m\u001b[38;5;28;43mself\u001b[39;49m\u001b[43m.\u001b[49m\u001b[43mdata\u001b[49m\u001b[43m,\u001b[49m\u001b[43m \u001b[49m\u001b[43mdata\u001b[49m\u001b[43m)\u001b[49m\n",
      "\u001b[31mTypeError\u001b[39m: Cannot cast scalar from dtype('complex128') to dtype('float64') according to the rule 'same_kind'"
     ]
    }
   ],
   "source": [
    "solver.set_state(2,0)"
   ]
  },
  {
   "cell_type": "code",
   "execution_count": 11,
   "id": "a20fcc60-72bf-4b61-9de4-f76a48959768",
   "metadata": {},
   "outputs": [
    {
     "ename": "TypeError",
     "evalue": "Cannot cast scalar from dtype('complex128') to dtype('float64') according to the rule 'same_kind'",
     "output_type": "error",
     "traceback": [
      "\u001b[31m---------------------------------------------------------------------------\u001b[39m",
      "\u001b[31mTypeError\u001b[39m                                 Traceback (most recent call last)",
      "\u001b[36mCell\u001b[39m\u001b[36m \u001b[39m\u001b[32mIn[11]\u001b[39m\u001b[32m, line 6\u001b[39m\n\u001b[32m      3\u001b[39m fig=plt.figure(figsize=(\u001b[32m3\u001b[39m,\u001b[32m4.5\u001b[39m))\n\u001b[32m      5\u001b[39m \u001b[38;5;28;01mfor\u001b[39;00m i \u001b[38;5;129;01min\u001b[39;00m smallest_idx:\n\u001b[32m----> \u001b[39m\u001b[32m6\u001b[39m     \u001b[43msolver\u001b[49m\u001b[43m.\u001b[49m\u001b[43mset_state\u001b[49m\u001b[43m(\u001b[49m\u001b[43mi\u001b[49m\u001b[43m,\u001b[49m\u001b[32;43m0\u001b[39;49m\u001b[43m)\u001b[49m\n\u001b[32m      7\u001b[39m     psi_evec = solver.state[\u001b[32m0\u001b[39m][\u001b[33m'\u001b[39m\u001b[33mg\u001b[39m\u001b[33m'\u001b[39m]\n\u001b[32m      8\u001b[39m     psi_evec /= psi_evec[np.argmax(np.abs(psi_evec))]\n",
      "\u001b[36mFile \u001b[39m\u001b[32m~/mambaforge/envs/book/lib/python3.13/site-packages/dedalus/core/solvers.py:321\u001b[39m, in \u001b[36mEigenvalueSolver.set_state\u001b[39m\u001b[34m(self, index, subsystem)\u001b[39m\n\u001b[32m    319\u001b[39m subsystem.scatter(\u001b[38;5;28mself\u001b[39m.eigenvectors[:, index], \u001b[38;5;28mself\u001b[39m.state)\n\u001b[32m    320\u001b[39m \u001b[38;5;66;03m# Set eigenvalue\u001b[39;00m\n\u001b[32m--> \u001b[39m\u001b[32m321\u001b[39m \u001b[38;5;28;43mself\u001b[39;49m\u001b[43m.\u001b[49m\u001b[43mproblem\u001b[49m\u001b[43m.\u001b[49m\u001b[43meigenvalue\u001b[49m\u001b[43m[\u001b[49m\u001b[33;43m'\u001b[39;49m\u001b[33;43mg\u001b[39;49m\u001b[33;43m'\u001b[39;49m\u001b[43m]\u001b[49m = \u001b[38;5;28mself\u001b[39m.eigenvalues[index]\n",
      "\u001b[36mFile \u001b[39m\u001b[32m~/mambaforge/envs/book/lib/python3.13/site-packages/dedalus/core/field.py:570\u001b[39m, in \u001b[36mField.__setitem__\u001b[39m\u001b[34m(self, layout, data)\u001b[39m\n\u001b[32m    568\u001b[39m layout = \u001b[38;5;28mself\u001b[39m.dist.get_layout_object(layout)\n\u001b[32m    569\u001b[39m \u001b[38;5;28mself\u001b[39m.preset_layout(layout)\n\u001b[32m--> \u001b[39m\u001b[32m570\u001b[39m \u001b[43mnp\u001b[49m\u001b[43m.\u001b[49m\u001b[43mcopyto\u001b[49m\u001b[43m(\u001b[49m\u001b[38;5;28;43mself\u001b[39;49m\u001b[43m.\u001b[49m\u001b[43mdata\u001b[49m\u001b[43m,\u001b[49m\u001b[43m \u001b[49m\u001b[43mdata\u001b[49m\u001b[43m)\u001b[49m\n",
      "\u001b[31mTypeError\u001b[39m: Cannot cast scalar from dtype('complex128') to dtype('float64') according to the rule 'same_kind'"
     ]
    },
    {
     "data": {
      "text/plain": [
       "<Figure size 300x450 with 0 Axes>"
      ]
     },
     "metadata": {},
     "output_type": "display_data"
    }
   ],
   "source": [
    "smallest_idx = np.argsort(evals.real)[:4]\n",
    "\n",
    "fig=plt.figure(figsize=(3,4.5))\n",
    "\n",
    "for i in smallest_idx:\n",
    "    solver.set_state(i,0)\n",
    "    psi_evec = solver.state[0]['g']\n",
    "    psi_evec /= psi_evec[np.argmax(np.abs(psi_evec))]\n",
    "\n",
    "    plt.plot(psi_evec,z[0].ravel(),label=r\"$\\lambda=%.2f$\" %np.real(evals[i]**0.5))\n",
    "\n",
    "plt.axvline(0,color='k',linewidth=0.5,linestyle='--')\n",
    "plt.xlim(-1.1,1.3)\n",
    "plt.legend()\n",
    "plt.ylabel(\"$z$\")\n",
    "\n",
    "plt.show()"
   ]
  },
  {
   "cell_type": "markdown",
   "id": "58e5f9b4-9f02-43f7-86ce-9454c1ce6773",
   "metadata": {},
   "source": [
    "There are many definitions of orthogonal vertical mode for the ocean.\n",
    "For some examples, see\n",
    "{cite}`SmithVanneste_13`, {cite}`LaCasce_17`, and\n",
    "{cite}`YassinGriffies_22`. All these problems\n",
    "can be solved by Dedalus, with more or less modification of the above\n",
    "code. \n",
    "\n",
    "One could also input realistic stratification profiles from data,\n",
    "interpolating them onto a Chebyshev grid of sufficient resolution. In\n",
    "particular, this code reproduces the functionality of\n",
    "<https://github.com/rabernat/oceanmodes>."
   ]
  },
  {
   "cell_type": "code",
   "execution_count": null,
   "id": "87093ad4-b6b2-4c5d-8bbb-9c97196522f7",
   "metadata": {},
   "outputs": [],
   "source": []
  }
 ],
 "metadata": {
  "kernelspec": {
   "display_name": "Python 3 (ipykernel)",
   "language": "python",
   "name": "python3"
  },
  "language_info": {
   "codemirror_mode": {
    "name": "ipython",
    "version": 3
   },
   "file_extension": ".py",
   "mimetype": "text/x-python",
   "name": "python",
   "nbconvert_exporter": "python",
   "pygments_lexer": "ipython3",
   "version": "3.13.3"
  }
 },
 "nbformat": 4,
 "nbformat_minor": 5
}
