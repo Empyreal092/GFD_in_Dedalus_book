{
 "cells": [
  {
   "cell_type": "markdown",
   "id": "ee03cb8c-28b2-4de2-9ad5-51418d826e16",
   "metadata": {
    "editable": true,
    "slideshow": {
     "slide_type": ""
    },
    "tags": []
   },
   "source": [
    "# Calculating the power density spectrum\n",
    "\n",
    "## In one-dimension\n",
    "We first start with a common analysis of turbulent fields, especially those that are perdioic and easily represented using Fourier modes: the power density spectrum.\n",
    "\n",
    "We begin with an 1D real field $\\psi(x)\\in\\mathbb{R}$ in a domain of $x\\in [0,L]$. We can obtain its Fourier coefficient $\\hat \\psi(k)$ using FFT. Then we have the Parseval's theorem\n",
    "\\begin{align}\n",
    "    \\sum_{k} |\\hat \\psi(k)|^2 = \\frac{1}{L}\\int^{L}_0 |\\psi(x,y)|^2 \\mathrm{d}x.\n",
    "\\end{align}\n",
    "Note that the right-hand-side is the spatial average of $|\\psi(x,y)|^2$. This is why we use the name \"density\" in \"power density spectrum\".\n",
    "\n",
    "We test this in Dedalus"
   ]
  },
  {
   "cell_type": "code",
   "execution_count": 1,
   "id": "40ca73a5-cb36-4de6-b9fb-3c894af7db4e",
   "metadata": {
    "editable": true,
    "slideshow": {
     "slide_type": ""
    },
    "tags": [
     "hide-cell"
    ]
   },
   "outputs": [],
   "source": [
    "import numpy as np\n",
    "import dedalus.public as d3\n",
    "\n",
    "import matplotlib.pyplot as plt\n",
    "import matplotlib.colors as colors\n",
    "import cmocean.cm as cmo\n",
    "\n",
    "from numpy.random import normal\n",
    "\n",
    "plt.style.use('../subroutine/ryan_mplstyle.mplstyle')"
   ]
  },
  {
   "cell_type": "code",
   "execution_count": 2,
   "id": "695141bd-a560-49b0-a326-b0ec7c7acaba",
   "metadata": {
    "editable": true,
    "slideshow": {
     "slide_type": ""
    },
    "tags": []
   },
   "outputs": [],
   "source": [
    "L = 10\n",
    "N = 50\n",
    "dtype = np.float64\n",
    "dealias = 3/2\n",
    "\n",
    "# Bases\n",
    "xcoord = d3.Coordinate('x')\n",
    "dist = d3.Distributor(xcoord, dtype=dtype)\n",
    "xbasis = d3.RealFourier(xcoord, size=N, bounds=(0, L), dealias=dealias)\n",
    "x = dist.local_grid(xbasis)\n",
    "k_int = dist.local_modes(xbasis) # This is just an index of the wavenumber, alwayd integers\n",
    "k = xbasis.wavenumbers[dist.local_modes(xbasis)] # this is the value of the actual wavenumber, scaled by domain size\n",
    "\n",
    "# Fields\n",
    "psi = dist.Field(bases=xbasis)"
   ]
  },
  {
   "cell_type": "code",
   "execution_count": 3,
   "id": "4fd9d42b-d606-4445-ab98-841151f371ba",
   "metadata": {
    "editable": true,
    "slideshow": {
     "slide_type": ""
    },
    "tags": []
   },
   "outputs": [],
   "source": [
    "# Initialize the psi field with random Fourier coefficient\n",
    "psi['g'] = 0\n",
    "psi.fill_random('g', distribution='normal', scale=1); psi.low_pass_filter(shape=20)\n",
    "# psi['g'] -= np.mean(psi['g'])"
   ]
  },
  {
   "cell_type": "code",
   "execution_count": 4,
   "id": "58bc4ee5-d839-4a47-abdb-c31013ee7f5a",
   "metadata": {
    "editable": true,
    "slideshow": {
     "slide_type": ""
    },
    "tags": []
   },
   "outputs": [],
   "source": [
    "# This is the Fourier coefficient squared\n",
    "psi_mag = psi['c']*np.conj(psi['c'])"
   ]
  },
  {
   "cell_type": "code",
   "execution_count": 5,
   "id": "51689d6b-2a8a-4f87-91ac-af58f80356b2",
   "metadata": {
    "editable": true,
    "slideshow": {
     "slide_type": ""
    },
    "tags": []
   },
   "outputs": [
    {
     "data": {
      "image/png": "[encoded data removed]",
      "text/plain": [
       "<Figure size 647.059x235.294 with 2 Axes>"
      ]
     },
     "metadata": {},
     "output_type": "display_data"
    }
   ],
   "source": [
    "fig=plt.figure(figsize=(11/1.7, 4/1.7))\n",
    "plt.subplot(1, 2, 1)\n",
    "plt.plot(x,psi['g'])\n",
    "plt.title(r\"$\\psi$\")\n",
    "plt.xlabel(\"$x$\")\n",
    "\n",
    "plt.subplot(1, 2, 2)\n",
    "plt.plot(k_int,psi_mag)\n",
    "plt.title(r'$|\\hat{\\psi}|^2$')\n",
    "plt.xlabel(r\"$k_\\mathrm{int}$\")\n",
    "\n",
    "plt.show()"
   ]
  },
  {
   "cell_type": "code",
   "execution_count": 6,
   "id": "5559bc24-3315-4f05-9368-31e92070f084",
   "metadata": {
    "editable": true,
    "slideshow": {
     "slide_type": ""
    },
    "tags": []
   },
   "outputs": [
    {
     "name": "stdout",
     "output_type": "stream",
     "text": [
      "1.2372152158935958\n",
      "[0.61901095]\n"
     ]
    }
   ],
   "source": [
    "# This is the sum of Fourier coefficient squared\n",
    "print(np.sum(psi_mag))\n",
    "# This is integral of the field squared in real space\n",
    "print(d3.Integrate(np.abs(psi)**2,('x')).evaluate()['g'].ravel()/L)"
   ]
  },
  {
   "cell_type": "markdown",
   "id": "39666f85-79bc-4ac6-95f8-f4184362b3c1",
   "metadata": {
    "editable": true,
    "slideshow": {
     "slide_type": ""
    },
    "tags": []
   },
   "source": [
    "Wait a minute. They are not equal?! \n",
    "\n",
    "This is because for a real field, it is usual to use the conjugate symmetry of the Fourier coefficient for real field to disgard (almost) half of the Fourier coefficient. Sometimes this is done by saving only the positive half of the *complex* Fourier coefficient. In Dedalus, instead, the coefficients are *real*, effectively being factors in front of the $\\sin$ and $\\cos$ basis. Then this is also only half the storage requirement compared to saving all the *complex* coefficient.\n",
    "\n",
    "Then each FFT implementation have different conventions in scaling the coefficients. One has to be careful when using any FFT algorithm to pay attention and check. The test is of course the Parseval's theorem. \n",
    "\n",
    "For Dedalus 1D real field, one should scale $|\\hat\\psi(k)|^2$ by $1/2$ for all non-zero wavenumbers. The zero wavenumber should have a factor of one."
   ]
  },
  {
   "cell_type": "code",
   "execution_count": 7,
   "id": "6a4ac0d7-0775-4cb2-b3a1-6c1665bda008",
   "metadata": {
    "editable": true,
    "slideshow": {
     "slide_type": ""
    },
    "tags": []
   },
   "outputs": [],
   "source": [
    "factor = np.ones(psi_mag.shape)*1/2\n",
    "factor[0] = 1"
   ]
  },
  {
   "cell_type": "code",
   "execution_count": 8,
   "id": "d0915724-cf4b-444b-bf1d-064fe56d9482",
   "metadata": {
    "editable": true,
    "slideshow": {
     "slide_type": ""
    },
    "tags": []
   },
   "outputs": [
    {
     "name": "stdout",
     "output_type": "stream",
     "text": [
      "0.6190109468864704\n",
      "0.6190109468864704\n"
     ]
    }
   ],
   "source": [
    "print(np.sum(psi_mag*factor))\n",
    "print(d3.Integrate(np.abs(psi)**2,('x')).evaluate()['g'].ravel()[0]/L)"
   ]
  },
  {
   "cell_type": "markdown",
   "id": "2a115f81-3831-4d25-92ad-7c79d534aab0",
   "metadata": {
    "editable": true,
    "slideshow": {
     "slide_type": ""
    },
    "tags": []
   },
   "source": [
    "Now they match :) (up to numerical error).\n",
    "\n",
    "We are insterested in the power density spectrum. It is a function of each unique wavenumber. Since Dedalus uses $\\sin$ and $\\cos$ basis, each unique value is represented twive, once for $\\sin(k)$ and once for $\\cos(k)$. This is also clear from a print out of the actual wavenumber below. "
   ]
  },
  {
   "cell_type": "code",
   "execution_count": 9,
   "id": "56b127c1-b1de-4e1d-a20c-c367989bc34f",
   "metadata": {
    "editable": true,
    "slideshow": {
     "slide_type": ""
    },
    "tags": []
   },
   "outputs": [
    {
     "name": "stdout",
     "output_type": "stream",
     "text": [
      "[0.         0.         0.62831853 0.62831853 1.25663706 1.25663706\n",
      " 1.88495559 1.88495559 2.51327412 2.51327412]\n"
     ]
    }
   ],
   "source": [
    "print(k[:10])"
   ]
  },
  {
   "cell_type": "markdown",
   "id": "45623226-1bb1-4f14-92f7-d9651a55428a",
   "metadata": {
    "editable": true,
    "slideshow": {
     "slide_type": ""
    },
    "tags": []
   },
   "source": [
    "For the power density spectrum, we sum up the two coefficients squared with the same wavenumber. This produce an object half the size of the resolution prescribed. We define the function `isospectrum_1d`"
   ]
  },
  {
   "cell_type": "code",
   "execution_count": 10,
   "id": "6671ebd6-9883-4050-a8bf-713d1c5d0994",
   "metadata": {
    "editable": true,
    "slideshow": {
     "slide_type": ""
    },
    "tags": []
   },
   "outputs": [],
   "source": [
    "def isospectrum_1d(psi_mag):\n",
    "    N = psi_mag.size\n",
    "    psi_spec = (psi_mag[0::2]+psi_mag[1::2])/2\n",
    "    psi_spec[0] += psi_mag[0]/2\n",
    "\n",
    "    return psi_spec"
   ]
  },
  {
   "cell_type": "code",
   "execution_count": 11,
   "id": "ee04120a-58aa-49bb-853e-75d8e1492c8b",
   "metadata": {
    "editable": true,
    "slideshow": {
     "slide_type": ""
    },
    "tags": []
   },
   "outputs": [],
   "source": [
    "psi_spec = isospectrum_1d(psi_mag)"
   ]
  },
  {
   "cell_type": "code",
   "execution_count": 12,
   "id": "8c33a05e-0c3e-445f-bb03-d70618d930e9",
   "metadata": {
    "editable": true,
    "slideshow": {
     "slide_type": ""
    },
    "tags": []
   },
   "outputs": [
    {
     "data": {
      "image/png": "[encoded data removed]",
      "text/plain": [
       "<Figure size 352.941x235.294 with 1 Axes>"
      ]
     },
     "metadata": {},
     "output_type": "display_data"
    }
   ],
   "source": [
    "fig=plt.figure(figsize=(6/1.7, 4/1.7))\n",
    "\n",
    "plt.loglog(k[0::2],psi_spec)\n",
    "plt.title(r'$\\psi$ spectrum')\n",
    "plt.xlabel(r\"$k_\\mathrm{int}$\")\n",
    "\n",
    "plt.show()"
   ]
  },
  {
   "cell_type": "markdown",
   "id": "b8f9be71-58dd-4ce6-9704-d9bb2e42a346",
   "metadata": {
    "editable": true,
    "slideshow": {
     "slide_type": ""
    },
    "tags": []
   },
   "source": [
    "The final test of our algorithm is whether is still preserved the variance of the original data (satisfied Parseval's). \n",
    "\n",
    "Any code calculating the spetrum should pass this test. It is surprising how many spectrum function in commonly used psudospectral code for GFD get this wrong. You should always check when using others' function or after you wrote your own."
   ]
  },
  {
   "cell_type": "code",
   "execution_count": 13,
   "id": "a6c05d59-f145-4da4-bb98-2cac09d3c9b3",
   "metadata": {
    "editable": true,
    "slideshow": {
     "slide_type": ""
    },
    "tags": []
   },
   "outputs": [
    {
     "name": "stdout",
     "output_type": "stream",
     "text": [
      "0.6190109468864703\n",
      "0.6190109468864704\n"
     ]
    }
   ],
   "source": [
    "print(np.sum(psi_spec))\n",
    "print(d3.Integrate(np.abs(psi)**2,('x')).evaluate()['g'].ravel()[0]/L)"
   ]
  },
  {
   "cell_type": "markdown",
   "id": "148b5a49-5682-4de5-98e0-9f4032eb46e3",
   "metadata": {
    "editable": true,
    "slideshow": {
     "slide_type": ""
    },
    "tags": []
   },
   "source": [
    "Power density spectrum is popular in the study of turbulence is deeply rooted in the mathematics of Gaussian random fields. It is related to the two-point corrolation function (or autocorrelation function) of the data, by using the Wiener–Khinchin theorem. We recomment the book of {cite}`Yaglom_62` for a through treatment, far beyond what we covered here."
   ]
  },
  {
   "cell_type": "markdown",
   "id": "73a00743-351c-48b1-b837-b957f959e0d3",
   "metadata": {
    "editable": true,
    "slideshow": {
     "slide_type": ""
    },
    "tags": []
   },
   "source": [
    "## In two-dimensions\n",
    "\n",
    "Assume we have a 2D doubly-perdioic field $\\psi(x,y)\\in\\mathbb{R}$ and its Fourier coefficient $\\hat \\psi(k,\\ell)$. The Parseval's theorem now states\n",
    "\\begin{align}\n",
    "    \\sum_{k,\\ell} |\\hat \\psi(k,\\ell)|^2 = \\frac{1}{Lx*Ly}\\int^{L_y}_0\\int^{L_x}_0 |\\psi(x,y)|^2 \\mathrm{d}x\\mathrm{d}y\n",
    "\\end{align}\n",
    "We test this in Dedalus using an example that has $Lx\\neq Ly$ and differing resolution each side."
   ]
  },
  {
   "cell_type": "code",
   "execution_count": 96,
   "id": "2a17296b-5ef4-4767-a492-9149882cac8b",
   "metadata": {
    "editable": true,
    "slideshow": {
     "slide_type": ""
    },
    "tags": [
     "hide-cell"
    ]
   },
   "outputs": [],
   "source": [
    "Lx, Ly = 12*np.pi, 10*np.pi\n",
    "Nx, Ny = 60, 40\n",
    "dtype = np.float64\n",
    "dealias = 3/2\n",
    "\n",
    "# Bases\n",
    "coords = d3.CartesianCoordinates('x', 'y')\n",
    "dist = d3.Distributor(coords, dtype=dtype)\n",
    "xbasis = d3.RealFourier(coords['x'], size=Nx, bounds=(0, Lx), dealias=dealias)\n",
    "ybasis = d3.RealFourier(coords['y'], size=Ny, bounds=(0, Ly), dealias=dealias)\n",
    "\n",
    "x, y = dist.local_grids(xbasis, ybasis)\n",
    "x = x.ravel(); y = y.ravel()\n",
    "x_mat, y_mat = np.meshgrid(x, y); x_mat = x_mat.T; y_mat = y_mat.T\n",
    "\n",
    "k_int = dist.local_modes(xbasis).ravel(); l_int = dist.local_modes(ybasis).ravel() # This is just an index of the wavenumber, alwayd integers\n",
    "k = xbasis.wavenumbers[dist.local_modes(xbasis)]; l = ybasis.wavenumbers[dist.local_modes(ybasis)]; # this is the value of the actual wavenumber, scaled by domain size\n",
    "\n",
    "# Fields\n",
    "psi = dist.Field(bases=(xbasis,ybasis) )"
   ]
  },
  {
   "cell_type": "code",
   "execution_count": 97,
   "id": "1c7e2617-43d7-47ec-b921-1f9994d67ac8",
   "metadata": {
    "editable": true,
    "slideshow": {
     "slide_type": ""
    },
    "tags": []
   },
   "outputs": [],
   "source": [
    "psi['g'] = 0\n",
    "psi.fill_random('g', distribution='normal', scale=1); \n",
    "psi.low_pass_filter(shape=(20, 20))\n",
    "\n",
    "psi_mag2d = psi['c']*np.conj(psi['c'])"
   ]
  },
  {
   "cell_type": "code",
   "execution_count": 98,
   "id": "c16a6ec1-b855-4ea9-b54e-b5e6d64e49b8",
   "metadata": {
    "editable": true,
    "slideshow": {
     "slide_type": ""
    },
    "tags": []
   },
   "outputs": [
    {
     "data": {
      "text/plain": [
       "(40, 60)"
      ]
     },
     "execution_count": 98,
     "metadata": {},
     "output_type": "execute_result"
    }
   ],
   "source": [
    "psi['g'].T.shape"
   ]
  },
  {
   "cell_type": "code",
   "execution_count": 99,
   "id": "6d8efadf-dc1c-4130-b855-4c63eccc2cea",
   "metadata": {
    "editable": true,
    "slideshow": {
     "slide_type": ""
    },
    "tags": []
   },
   "outputs": [
    {
     "data": {
      "image/png": "[encoded data removed]",
      "text/plain": [
       "<Figure size 764.706x235.294 with 4 Axes>"
      ]
     },
     "metadata": {},
     "output_type": "display_data"
    }
   ],
   "source": [
    "fig=plt.figure(figsize=(13/1.7, 4/1.7))\n",
    "plt.subplot(1, 2, 1)\n",
    "plt.pcolormesh(x,y,psi['g'].T, cmap=cmo.balance, norm=colors.CenteredNorm())\n",
    "plt.axis('equal')\n",
    "cbar = plt.colorbar();\n",
    "plt.title(r\"$\\psi$\")\n",
    "plt.xlabel(\"$x$\"); plt.ylabel(\"$y$\")\n",
    "\n",
    "plt.subplot(1, 2, 2)\n",
    "plt.pcolormesh(k_int,l_int,psi_mag2d.T)\n",
    "plt.axis('equal')\n",
    "cbar = plt.colorbar();\n",
    "plt.title(r'$|\\hat{\\psi}|^2$')\n",
    "plt.xlabel(r\"$k_\\mathrm{int}$\"); plt.ylabel(r\"$\\ell_\\mathrm{int}$\")\n",
    "\n",
    "plt.show()"
   ]
  },
  {
   "cell_type": "markdown",
   "id": "96f7cddb-b959-4102-aebc-a5db92bae5cc",
   "metadata": {
    "editable": true,
    "slideshow": {
     "slide_type": ""
    },
    "tags": []
   },
   "source": [
    "2D real fields also requires factors to match the Parseval's theorem, and it is slightly more complicated. The factor should be $1/4$; except when $k=0$ xor $\\ell=0$, it should be $1/2$; and when $k=0$ and $\\ell=0$, it should be one. "
   ]
  },
  {
   "cell_type": "code",
   "execution_count": 100,
   "id": "ea42c1b5-19ab-4b96-87c2-dba2b38b376b",
   "metadata": {
    "editable": true,
    "slideshow": {
     "slide_type": ""
    },
    "tags": []
   },
   "outputs": [],
   "source": [
    "factor = np.ones(psi_mag2d.shape)*1/4\n",
    "factor[0,:] *= 2; factor[:,0] *= 2"
   ]
  },
  {
   "cell_type": "code",
   "execution_count": 101,
   "id": "4796d19b-b8e3-459a-9215-703ee79baae2",
   "metadata": {
    "editable": true,
    "slideshow": {
     "slide_type": ""
    },
    "tags": []
   },
   "outputs": [
    {
     "name": "stdout",
     "output_type": "stream",
     "text": [
      "0.16622768166042284\n",
      "0.1662276816604228\n"
     ]
    }
   ],
   "source": [
    "print(np.sum(psi_mag2d*factor))\n",
    "print(d3.Integrate(np.abs(psi)**2,('x','y')).evaluate()['g'].ravel()[0]/(Lx*Ly))"
   ]
  },
  {
   "cell_type": "markdown",
   "id": "ff75d932-adcd-48ef-af4d-58017a6fe945",
   "metadata": {
    "editable": true,
    "slideshow": {
     "slide_type": ""
    },
    "tags": []
   },
   "source": [
    "For isotropic 2D fields, the isotropic power density spectrum is a convenient measurememt of the amount of variance in each length scale. It is a 1D function of $K = \\sqrt{k^2+\\ell^2}$, the magnitude of the wavenumber. It is easy to see that the isotropic spectrum ignored the difference between different $(k,\\ell)$ values with the same magnitude.\n",
    "\n",
    "To convert the 2D spectrum to the isotropic spectrum, we need to sum over coefficients with similar wavenumber magnitude. It is important here to make sure no mode is double counted and no mode is left behind. This ensures the isotropic spectrum preserve variance. \n",
    "\n",
    "We build two version, one for when the field has $Lx=Ly$ and isotropic discretization. This is the most common situation. We also allows for anisotropic discretizated inputs."
   ]
  },
  {
   "cell_type": "code",
   "execution_count": 102,
   "id": "90bb66cc-f541-4ebf-b555-65857cb6beba",
   "metadata": {
    "editable": true,
    "slideshow": {
     "slide_type": ""
    },
    "tags": []
   },
   "outputs": [],
   "source": [
    "def isospectrum_2d(psi_mag, k=False, l=False):\n",
    "# Input of k, l is not neede for isotropic discretizated fields\n",
    "    if type(k) is bool:\n",
    "        N = psi_mag.shape[0]\n",
    "        k_mat, l_mat = np.meshgrid(range(N), range(N))\n",
    "        spec_k_ary = np.arange(0,int(N/2)) # the K array where the spectrum will be indexed by\n",
    "    else:\n",
    "        k=k.ravel(); l=l.ravel()\n",
    "        k_min = np.min([k[-1],l[-1]])\n",
    "        k_mat, l_mat = np.meshgrid(k, l)\n",
    "        dk = k[2]-k[1]; dl = l[2]-l[1]; dkmax = np.max([dk,dl])\n",
    "        spec_k_ary = np.arange(0,k_min,dkmax)\n",
    "    #####  \n",
    "    psi_spec = np.zeros(spec_k_ary.size)\n",
    "    for i in range(spec_k_ary.size):\n",
    "        # make the mask for each K\n",
    "        mask = np.sqrt(k_mat**2+l_mat**2) < spec_k_ary[i]\n",
    "        mask *= np.sqrt(k_mat**2+l_mat**2) >= spec_k_ary[i-1]\n",
    "        mask = mask*1/4; mask[0,:] *= 2; mask[:,0] *= 2;\n",
    "\n",
    "        psi_spec[i] = (mask*psi_mag.T).sum()\n",
    "\n",
    "    return psi_spec"
   ]
  },
  {
   "cell_type": "code",
   "execution_count": 103,
   "id": "bf3aaa8e-ced5-4278-aab0-bba3f6f31dde",
   "metadata": {
    "editable": true,
    "slideshow": {
     "slide_type": ""
    },
    "tags": []
   },
   "outputs": [],
   "source": [
    "psi_spec = isospectrum_2d(psi_mag2d,k,l)"
   ]
  },
  {
   "cell_type": "code",
   "execution_count": 104,
   "id": "d5194c74-cd97-459c-ab7a-9f468d2f4a85",
   "metadata": {
    "editable": true,
    "slideshow": {
     "slide_type": ""
    },
    "tags": []
   },
   "outputs": [
    {
     "name": "stdout",
     "output_type": "stream",
     "text": [
      "0.16622768166042284\n",
      "0.1662276816604228\n"
     ]
    }
   ],
   "source": [
    "print(np.sum(psi_spec))\n",
    "print(d3.Integrate(np.abs(psi)**2,('x','y')).evaluate()['g'].ravel()[0]/(Lx*Ly))"
   ]
  },
  {
   "cell_type": "code",
   "execution_count": 94,
   "id": "f5ced9ba-637a-42b2-8342-4aadf77bc863",
   "metadata": {
    "editable": true,
    "slideshow": {
     "slide_type": ""
    },
    "tags": []
   },
   "outputs": [
    {
     "data": {
      "image/png": "[encoded data removed]",
      "text/plain": [
       "<Figure size 352.941x235.294 with 1 Axes>"
      ]
     },
     "metadata": {},
     "output_type": "display_data"
    }
   ],
   "source": [
    "fig=plt.figure(figsize=(6/1.7, 4/1.7))\n",
    "\n",
    "plt.loglog(psi_spec)\n",
    "plt.title(r'$\\psi$ isotropic spectrum')\n",
    "plt.xlabel(r\"$k_\\mathrm{int}$\")\n",
    "\n",
    "plt.show()"
   ]
  },
  {
   "cell_type": "markdown",
   "id": "df2946b2-c792-4cde-92b4-f7954a1c987d",
   "metadata": {
    "editable": true,
    "slideshow": {
     "slide_type": ""
    },
    "tags": []
   },
   "source": [
    "Everything checks out. "
   ]
  },
  {
   "cell_type": "markdown",
   "id": "7578d0c2-6188-4c39-8f20-491a4c1749ae",
   "metadata": {
    "editable": true,
    "slideshow": {
     "slide_type": ""
    },
    "tags": []
   },
   "source": [
    "We wrap up out function for 1D and 2D into into one function that one can just call [`isospectrum.py`](https://github.com/Empyreal092/GFD_in_Dedalus_book/isospectrum/isospectrum.py). \n",
    "\n",
    "The work is not done. The above code is not tested for complex flieds. It is also not tested for higher dimensional fields. I encourage you to contribute if you are interested!"
   ]
  }
 ],
 "metadata": {
  "kernelspec": {
   "display_name": "Python 3 (ipykernel)",
   "language": "python",
   "name": "python3"
  },
  "language_info": {
   "codemirror_mode": {
    "name": "ipython",
    "version": 3
   },
   "file_extension": ".py",
   "mimetype": "text/x-python",
   "name": "python",
   "nbconvert_exporter": "python",
   "pygments_lexer": "ipython3",
   "version": "3.13.3"
  }
 },
 "nbformat": 4,
 "nbformat_minor": 5
}
