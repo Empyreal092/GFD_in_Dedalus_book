{
 "cells": [
  {
   "cell_type": "markdown",
   "id": "31d936f5-9848-4f7a-819e-1b8e14b6c7c8",
   "metadata": {},
   "source": [
    "(file-types:notebooks)=\n",
    "# Baroclinic modes for arbitrary stratification\n",
    "\n",
    "This is an simple example of the eigenvalue problem module of Dedalus.\n",
    "\n",
    "We solve the baroclinic mode for arbitrary stratification profiles. That\n",
    "is, we solve the Sturm--Liouville problem: \n",
    "\\begin{align}\n",
    "&\\frac{\\mathrm{d}}{\\mathrm{d}z}\\left( \\frac{f^2}{N^2}\\frac{\\mathrm{d}\\psi}{\\mathrm{d}z} \\right) = -\\lambda^2\\psi\\\\\n",
    "\\text{with}\\qquad &\\frac{\\mathrm{d}\\psi}{\\mathrm{d}z}(z=0)=\\frac{\\mathrm{d}\\psi}{\\mathrm{d}z}(z=-H)=0\n",
    "\\end{align}\n",
    "where $N^2$ is a function of $z$.\n",
    "\n",
    "We pose the problem on $H\\in[-1,0]$ with $f^2/N^2(z)=e^{z}$. Realistic\n",
    "physical values only change the eigenvalues by a constant. "
   ]
  },
  {
   "cell_type": "code",
   "execution_count": 23,
   "id": "d00c328c-58f7-4abd-8c83-7f8c35e4eb1e",
   "metadata": {},
   "outputs": [],
   "source": [
    "import numpy as np\n",
    "import dedalus.public as d3\n",
    "\n",
    "import matplotlib.pyplot as plt\n",
    "import matplotlib.colors as colors\n",
    "import cmocean.cm as cmo\n",
    "\n",
    "plt.style.use('/mnt/c/Ryan_Data/Tools/Python_Tool/ryan_mplstyle.mplstyle')"
   ]
  },
  {
   "cell_type": "markdown",
   "id": "7f965896-6b42-42af-be9b-0479fdbf5f82",
   "metadata": {},
   "source": [
    "Define the problem parameters"
   ]
  },
  {
   "cell_type": "code",
   "execution_count": 24,
   "id": "dd44c7ae-7768-4d5e-9c21-2751aeb796db",
   "metadata": {},
   "outputs": [],
   "source": [
    "# Physical Parameters\n",
    "f = 1\n",
    "N0 = 1\n",
    "\n",
    "# Numerics Parameters\n",
    "Lz = 2*np.pi\n",
    "Nz = 128\n",
    "\n",
    "dtype = np.complex128\n",
    "\n",
    "# Bases\n",
    "Lzt, Lzb = 0, -Lz\n",
    "\n",
    "coords = d3.CartesianCoordinates('z')\n",
    "dist = d3.Distributor(coords, dtype=dtype)\n",
    "zbasis = d3.Chebyshev(coords['z'], size=Nz, bounds=(Lzb, Lzt))\n",
    "\n",
    "# Substitutions\n",
    "dz = lambda A: d3.Differentiate(A, coords['z'])"
   ]
  },
  {
   "cell_type": "markdown",
   "id": "94f1ac29-b991-40ea-a2e5-f8811cd9b618",
   "metadata": {},
   "source": [
    "Define the problem fields"
   ]
  },
  {
   "cell_type": "code",
   "execution_count": 25,
   "id": "dd59f80a-5f47-4e90-9a3b-eace4aef4abf",
   "metadata": {},
   "outputs": [],
   "source": [
    "# Fields\n",
    "N2 = dist.Field(bases=zbasis)\n",
    "\n",
    "lamb2 = dist.Field()\n",
    "\n",
    "psi = dist.Field(bases=zbasis )\n",
    "\n",
    "# tau fields for the top and bottom boundary conditions\n",
    "tau_psit = dist.Field( )\n",
    "tau_psib = dist.Field( )\n",
    "\n",
    "z = dist.local_grids(zbasis)\n",
    "\n",
    "lift_basis = zbasis.derivative_basis(2)\n",
    "lift = lambda A, n: d3.Lift(A, lift_basis, n)"
   ]
  },
  {
   "cell_type": "markdown",
   "id": "9f0c8f3f-f18e-4ec2-a96e-4dd1f13f1637",
   "metadata": {},
   "source": [
    "Define the problem"
   ]
  },
  {
   "cell_type": "code",
   "execution_count": 26,
   "id": "c7338ec7-9872-4c84-9747-cd0e239a76d9",
   "metadata": {},
   "outputs": [
    {
     "data": {
      "text/plain": [
       "{'eqn': interp(Diff(<Field 137031801632144>), z=-6.283185307179586),\n",
       " 'LHS': interp(Diff(<Field 137031801632144>), z=-6.283185307179586),\n",
       " 'RHS': 0,\n",
       " 'condition': 'True',\n",
       " 'tensorsig': (),\n",
       " 'dtype': numpy.complex128,\n",
       " 'valid_modes': array([ True]),\n",
       " 'M': 0,\n",
       " 'L': interp(Diff(<Field 137031801632144>), z=-6.283185307179586),\n",
       " 'domain': <dedalus.core.domain.Domain at 0x7ca133c24850>,\n",
       " 'matrix_dependence': array([ True]),\n",
       " 'matrix_coupling': array([ True])}"
      ]
     },
     "execution_count": 26,
     "metadata": {},
     "output_type": "execute_result"
    }
   ],
   "source": [
    "N2['g'] = N0**2*np.exp(z)\n",
    "\n",
    "# Problem\n",
    "problem = d3.EVP([psi, tau_psit, tau_psib], eigenvalue=lamb2, namespace=locals())\n",
    "\n",
    "problem.add_equation(\"dz( (f**2/N2)*dz(psi) ) + lift(tau_psit,-1) + lift(tau_psib,-2) + lamb2*psi = 0\")\n",
    "problem.add_equation(\"dz(psi)(z=Lzt) = 0\"); problem.add_equation(\"dz(psi)(z=Lzb) = 0\")"
   ]
  },
  {
   "cell_type": "code",
   "execution_count": 27,
   "id": "a96e6093-b1df-41b3-a7ca-1b7be6243479",
   "metadata": {},
   "outputs": [
    {
     "name": "stdout",
     "output_type": "stream",
     "text": [
      "2025-06-10 17:47:36,333 subsystems 0/1 INFO :: Building subproblem matrices 1/1 (~100%) Elapsed: 0s, Remaining: 0s, Rate: 4.2e+00/s\n"
     ]
    }
   ],
   "source": [
    "solver = problem.build_solver()\n",
    "solver.solve_dense(solver.subproblems[0], rebuild_matrices=True)\n",
    "evals = solver.eigenvalues"
   ]
  },
  {
   "cell_type": "markdown",
   "id": "23cbfb09-1d30-4cd7-9071-833774088721",
   "metadata": {},
   "source": [
    "One can access the eigenvakyes using ``solver.eigenvalues``. To access the eigenvector, use \n",
    "```\n",
    "solver.set_state(i,0)\n",
    "psi_evec = solver.state[0]['g']\n",
    "```"
   ]
  },
  {
   "cell_type": "markdown",
   "id": "ec81162b-d6a1-436f-8cf8-4cb17a9f5836",
   "metadata": {},
   "source": [
    "We plot the eigenvectors with the four smallest eigenvalues."
   ]
  },
  {
   "cell_type": "code",
   "execution_count": 32,
   "id": "a20fcc60-72bf-4b61-9de4-f76a48959768",
   "metadata": {},
   "outputs": [
    {
     "data": {
      "image/png": "[encoded data removed]",
      "text/plain": [
       "<Figure size 300x450 with 1 Axes>"
      ]
     },
     "metadata": {},
     "output_type": "display_data"
    }
   ],
   "source": [
    "smallest_idx = np.argsort(evals.real)[:4]\n",
    "\n",
    "fig=plt.figure(figsize=(3,4.5))\n",
    "\n",
    "for i in smallest_idx:\n",
    "    solver.set_state(i,0)\n",
    "    psi_evec = np.real(solver.state[0]['g'])\n",
    "    psi_evec /= psi_evec[np.argmax(np.abs(psi_evec))]\n",
    "\n",
    "    plt.plot(psi_evec,z[0].ravel(),label=r\"$\\lambda=%.2f$\" %np.real(evals[i]**0.5))\n",
    "\n",
    "plt.axvline(0,color='k',linewidth=0.5,linestyle='--')\n",
    "plt.xlim(-1.1,1.3)\n",
    "plt.legend()\n",
    "plt.ylabel(\"$z$\")\n",
    "\n",
    "plt.show()"
   ]
  },
  {
   "cell_type": "markdown",
   "id": "58e5f9b4-9f02-43f7-86ce-9454c1ce6773",
   "metadata": {},
   "source": [
    "There are many definitions of orthogonal vertical mode for the ocean.\n",
    "For some examples, see\n",
    "{cite}`SmithVanneste_13`, {cite}`LaCasce_17`, and\n",
    "{cite}`YassinGriffies_22`. All these problems\n",
    "can be solved by Dedalus, with more or less modification of the above\n",
    "code. \n",
    "\n",
    "One could also input realistic stratification profiles from data,\n",
    "interpolating them onto a Chebyshev grid of sufficient resolution. In\n",
    "particular, this code reproduces the functionality of\n",
    "<https://github.com/rabernat/oceanmodes>."
   ]
  },
  {
   "cell_type": "code",
   "execution_count": null,
   "id": "87093ad4-b6b2-4c5d-8bbb-9c97196522f7",
   "metadata": {},
   "outputs": [],
   "source": []
  }
 ],
 "metadata": {
  "kernelspec": {
   "display_name": "Python 3 (ipykernel)",
   "language": "python",
   "name": "python3"
  },
  "language_info": {
   "codemirror_mode": {
    "name": "ipython",
    "version": 3
   },
   "file_extension": ".py",
   "mimetype": "text/x-python",
   "name": "python",
   "nbconvert_exporter": "python",
   "pygments_lexer": "ipython3",
   "version": "3.13.3"
  }
 },
 "nbformat": 4,
 "nbformat_minor": 5
}
